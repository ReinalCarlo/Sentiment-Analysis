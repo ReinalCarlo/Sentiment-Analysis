{
 "cells": [
  {
   "cell_type": "code",
   "execution_count": 1,
   "id": "9ba98aac",
   "metadata": {},
   "outputs": [],
   "source": [
    "# Import required libraries\n",
    "import pandas as pd\n",
    "import numpy as np\n",
    "import re\n",
    "import nltk\n",
    "from nltk.corpus import stopwords\n",
    "from sklearn.feature_extraction.text import CountVectorizer\n",
    "from sklearn.svm import SVC"
   ]
  },
  {
   "cell_type": "code",
   "execution_count": 4,
   "id": "36b1e846",
   "metadata": {},
   "outputs": [],
   "source": [
    "# Load the labelled dataset\n",
    "data = pd.read_csv('train.csv', encoding='latin-1')"
   ]
  },
  {
   "cell_type": "code",
   "execution_count": 5,
   "id": "e4a29f98",
   "metadata": {},
   "outputs": [],
   "source": [
    "# Preprocess the labelled dataset\n",
    "def preprocess(text):\n",
    "    text = re.sub(r'@[A-Za-z0-9]+', '', text) # Remove mentions\n",
    "    text = re.sub(r'https?:\\/\\/\\S+', '', text) # Remove URLs\n",
    "    text = re.sub(r'[^A-Za-z0-9]+', ' ', text) # Remove special characters\n",
    "    text = text.lower() # Convert to lowercase\n",
    "    words = nltk.word_tokenize(text) # Tokenize\n",
    "    words = [word for word in words if word not in stopwords.words('english')] # Remove stop words\n",
    "    words = [nltk.stem.PorterStemmer().stem(word) for word in words] # Stemming\n",
    "    return ' '.join(words)\n",
    "\n",
    "data['text'] = data['text'].apply(preprocess)"
   ]
  },
  {
   "cell_type": "code",
   "execution_count": 6,
   "id": "e6cf3013",
   "metadata": {},
   "outputs": [],
   "source": [
    "# Extract features from the preprocessed data\n",
    "vectorizer = CountVectorizer()\n",
    "X = vectorizer.fit_transform(data['text']).toarray()\n",
    "y = data['sentiment']"
   ]
  },
  {
   "cell_type": "code",
   "execution_count": 7,
   "id": "d95b3c91",
   "metadata": {},
   "outputs": [
    {
     "data": {
      "text/plain": [
       "SVC(kernel='linear', random_state=0)"
      ]
     },
     "execution_count": 7,
     "metadata": {},
     "output_type": "execute_result"
    }
   ],
   "source": [
    "# Train the SVM algorithm\n",
    "svm = SVC(kernel='linear', decision_function_shape='ovr', random_state=0)\n",
    "svm.fit(X, y)\n"
   ]
  },
  {
   "cell_type": "code",
   "execution_count": 9,
   "id": "285a85f0",
   "metadata": {},
   "outputs": [],
   "source": [
    "# Load the unlabelled dataset\n",
    "unlabelled_data = pd.read_csv(r'C:\\Users\\Reina\\Desktop\\demonitization.csv', encoding='latin-1')"
   ]
  },
  {
   "cell_type": "code",
   "execution_count": 11,
   "id": "3a7cf504",
   "metadata": {},
   "outputs": [],
   "source": [
    "# Preprocess the unlabelled dataset\n",
    "unlabelled_data['Tweet'] = unlabelled_data['Tweet'].apply(preprocess)"
   ]
  },
  {
   "cell_type": "code",
   "execution_count": 13,
   "id": "a6bbaeef",
   "metadata": {},
   "outputs": [],
   "source": [
    "# Extract features from the preprocessed unlabelled data\n",
    "X_unlabelled = vectorizer.transform(unlabelled_data['Tweet']).toarray()"
   ]
  },
  {
   "cell_type": "code",
   "execution_count": 14,
   "id": "c3fe72ed",
   "metadata": {},
   "outputs": [],
   "source": [
    "# Predict the sentiments of the unlabelled data using the trained SVM algorithm\n",
    "y_unlabelled = svm.predict(X_unlabelled)"
   ]
  },
  {
   "cell_type": "code",
   "execution_count": 17,
   "id": "662f8000",
   "metadata": {},
   "outputs": [],
   "source": [
    "# Save predictions to a file\n",
    "unlabelled_data['sentiment'] = y_unlabelled\n",
    "unlabelled_data.to_csv('svmdemonitization.csv', index=False)"
   ]
  },
  {
   "cell_type": "code",
   "execution_count": 19,
   "id": "66150f33",
   "metadata": {},
   "outputs": [
    {
     "data": {
      "text/plain": [
       "Text(0.5, 1.0, 'Distribution of sentiments')"
      ]
     },
     "execution_count": 19,
     "metadata": {},
     "output_type": "execute_result"
    },
    {
     "data": {
      "image/png": "[encoded data removed]",
      "text/plain": [
       "<Figure size 504x504 with 1 Axes>"
      ]
     },
     "metadata": {},
     "output_type": "display_data"
    }
   ],
   "source": [
    "import matplotlib.pyplot as plt\n",
    "import seaborn as sns\n",
    "fig = plt.figure(figsize=(7,7))\n",
    "colors = (\"red\", \"green\", \"white\")\n",
    "wp = {'linewidth':2, 'edgecolor':\"black\"}\n",
    "tags = unlabelled_data['sentiment'].value_counts()\n",
    "explode = (0.1,0.1,0.1)\n",
    "tags.plot(kind='pie', autopct='%1.1f%%', shadow=True, colors = colors,\n",
    "         startangle=90, wedgeprops = wp, explode = None, label='')\n",
    "plt.title('Distribution of sentiments')"
   ]
  },
  {
   "cell_type": "code",
   "execution_count": null,
   "id": "8694acaa",
   "metadata": {},
   "outputs": [],
   "source": []
  }
 ],
 "metadata": {
  "kernelspec": {
   "display_name": "Python 3 (ipykernel)",
   "language": "python",
   "name": "python3"
  },
  "language_info": {
   "codemirror_mode": {
    "name": "ipython",
    "version": 3
   },
   "file_extension": ".py",
   "mimetype": "text/x-python",
   "name": "python",
   "nbconvert_exporter": "python",
   "pygments_lexer": "ipython3",
   "version": "3.8.0"
  }
 },
 "nbformat": 4,
 "nbformat_minor": 5
}
