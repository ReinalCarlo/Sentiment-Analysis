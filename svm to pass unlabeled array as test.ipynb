{
 "cells": [
  {
   "cell_type": "code",
   "execution_count": 1,
   "id": "d729cb70",
   "metadata": {},
   "outputs": [],
   "source": [
    "# Import required libraries\n",
    "import pandas as pd\n",
    "import numpy as np\n",
    "import re\n",
    "import nltk\n",
    "from nltk.corpus import stopwords\n",
    "from sklearn.feature_extraction.text import CountVectorizer\n",
    "from sklearn.svm import SVC"
   ]
  },
  {
   "cell_type": "code",
   "execution_count": 3,
   "id": "0334ead7",
   "metadata": {},
   "outputs": [],
   "source": [
    "# Load the labelled dataset\n",
    "data = pd.read_csv('train.csv', encoding='latin-1')"
   ]
  },
  {
   "cell_type": "code",
   "execution_count": 4,
   "id": "378dc577",
   "metadata": {},
   "outputs": [],
   "source": [
    "# Preprocess the labelled dataset\n",
    "def preprocess(text):\n",
    "    text = re.sub(r'@[A-Za-z0-9]+', '', text) # Remove mentions\n",
    "    text = re.sub(r'https?:\\/\\/\\S+', '', text) # Remove URLs\n",
    "    text = re.sub(r'[^A-Za-z0-9]+', ' ', text) # Remove special characters\n",
    "    text = text.lower() # Convert to lowercase\n",
    "    words = nltk.word_tokenize(text) # Tokenize\n",
    "    words = [word for word in words if word not in stopwords.words('english')] # Remove stop words\n",
    "    words = [nltk.stem.PorterStemmer().stem(word) for word in words] # Stemming\n",
    "    return ' '.join(words)\n",
    "\n",
    "data['text'] = data['text'].apply(preprocess)"
   ]
  },
  {
   "cell_type": "code",
   "execution_count": 5,
   "id": "902aac9a",
   "metadata": {},
   "outputs": [],
   "source": [
    "# Extract features from the preprocessed data\n",
    "vectorizer = CountVectorizer()\n",
    "X = vectorizer.fit_transform(data['text']).toarray()\n",
    "y = data['sentiment']"
   ]
  },
  {
   "cell_type": "code",
   "execution_count": 6,
   "id": "f8c13403",
   "metadata": {},
   "outputs": [
    {
     "data": {
      "text/plain": [
       "SVC(kernel='linear', random_state=0)"
      ]
     },
     "execution_count": 6,
     "metadata": {},
     "output_type": "execute_result"
    }
   ],
   "source": [
    "# Train the SVM algorithm\n",
    "svm = SVC(kernel='linear', decision_function_shape='ovr', random_state=0)\n",
    "svm.fit(X, y)"
   ]
  },
  {
   "cell_type": "code",
   "execution_count": 7,
   "id": "fd9bc016",
   "metadata": {},
   "outputs": [],
   "source": [
    "# Define an array of tweets to predict the sentiments of\n",
    "tweets = [\"I love this movie!\",\n",
    "          \"This restaurant is terrible.\",\n",
    "          \"The weather is beautiful today.\",\n",
    "          \"I hate Mondays.\",\n",
    "          \"My phone is not working properly.\",\n",
    "          \"I am so happy to be here.\",\n",
    "          \"This traffic is making me crazy.\"]"
   ]
  },
  {
   "cell_type": "code",
   "execution_count": 8,
   "id": "c9c64155",
   "metadata": {},
   "outputs": [],
   "source": [
    "# Preprocess the tweets\n",
    "preprocessed_tweets = []\n",
    "for tweet in tweets:\n",
    "    preprocessed_tweet = preprocess(tweet)\n",
    "    preprocessed_tweets.append(preprocessed_tweet)"
   ]
  },
  {
   "cell_type": "code",
   "execution_count": 9,
   "id": "1ee57963",
   "metadata": {},
   "outputs": [],
   "source": [
    "# Extract features from the preprocessed tweets\n",
    "X_tweets = vectorizer.transform(preprocessed_tweets).toarray()"
   ]
  },
  {
   "cell_type": "code",
   "execution_count": 10,
   "id": "cadd6292",
   "metadata": {},
   "outputs": [],
   "source": [
    "# Predict the sentiments of the tweets using the trained SVM algorithm\n",
    "y_tweets = svm.predict(X_tweets)"
   ]
  },
  {
   "cell_type": "code",
   "execution_count": 11,
   "id": "53c57bc4",
   "metadata": {},
   "outputs": [
    {
     "name": "stdout",
     "output_type": "stream",
     "text": [
      "Predicted sentiments of the tweets:\n",
      "['positive' 'negative' 'negative' 'negative' 'negative' 'positive'\n",
      " 'negative']\n"
     ]
    }
   ],
   "source": [
    "# Print the predicted sentiments of the tweets\n",
    "print('Predicted sentiments of the tweets:')\n",
    "print(y_tweets)"
   ]
  },
  {
   "cell_type": "code",
   "execution_count": null,
   "id": "3c7f6d5a",
   "metadata": {},
   "outputs": [],
   "source": []
  }
 ],
 "metadata": {
  "kernelspec": {
   "display_name": "Python 3 (ipykernel)",
   "language": "python",
   "name": "python3"
  },
  "language_info": {
   "codemirror_mode": {
    "name": "ipython",
    "version": 3
   },
   "file_extension": ".py",
   "mimetype": "text/x-python",
   "name": "python",
   "nbconvert_exporter": "python",
   "pygments_lexer": "ipython3",
   "version": "3.8.0"
  }
 },
 "nbformat": 4,
 "nbformat_minor": 5
}
