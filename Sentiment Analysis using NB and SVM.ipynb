{
 "cells": [
  {
   "attachments": {},
   "cell_type": "markdown",
   "id": "15496335",
   "metadata": {},
   "source": [
    "# Importing Required Libraries"
   ]
  },
  {
   "cell_type": "code",
   "execution_count": 5,
   "id": "b3f42623",
   "metadata": {},
   "outputs": [],
   "source": [
    "import pandas as pd\n",
    "import numpy as np\n",
    "import re\n",
    "import nltk\n",
    "from nltk.corpus import stopwords\n",
    "from sklearn.feature_extraction.text import CountVectorizer\n",
    "from sklearn.svm import SVC\n",
    "from nltk.tokenize import word_tokenize\n",
    "from nltk.stem import PorterStemmer\n",
    "from sklearn.naive_bayes import MultinomialNB"
   ]
  },
  {
   "attachments": {},
   "cell_type": "markdown",
   "id": "7cf1dce5",
   "metadata": {},
   "source": [
    "# Function to plot graph"
   ]
  },
  {
   "cell_type": "code",
   "execution_count": 6,
   "id": "eccaa656",
   "metadata": {},
   "outputs": [],
   "source": [
    "def plotgraph(data_frame, algorithm) -> None:\n",
    "    import matplotlib.pyplot as plt\n",
    "    import seaborn as sns\n",
    "    fig = plt.figure(figsize=(7,7))\n",
    "    colors = {\"negative\":\"red\", \"positive\":\"green\",\"neutral\": \"white\"}\n",
    "    wp = {'linewidth':2, 'edgecolor':\"black\"}\n",
    "    tags = data_frame['sentiment'].value_counts()\n",
    "    explode = (0.1, 0.1, 0.1)\n",
    "    colors = [colors.get(sentiment, 'gray') for sentiment in tags.index]\n",
    "    pie_chart=tags.plot(kind='pie', autopct='%1.1f%%', shadow=True, colors=colors,\n",
    "    startangle=90, wedgeprops={'linewidth': 2, 'edgecolor': 'black'},\n",
    "    explode=None, label='')\n",
    "    pie_chart.legend(labels=tags.index, loc='best', bbox_to_anchor=(0.95, 0.95))\n",
    "    plt.title(f'Distribution of sentiments for {algorithm}')"
   ]
  },
  {
   "attachments": {},
   "cell_type": "markdown",
   "id": "21e31a88",
   "metadata": {},
   "source": [
    "# Loading the data"
   ]
  },
  {
   "cell_type": "code",
   "execution_count": 7,
   "id": "27d6e86a",
   "metadata": {},
   "outputs": [],
   "source": [
    "train_data = pd.read_csv('train.csv')\n",
    "test_data = pd.read_csv(r'demonitization.csv')"
   ]
  },
  {
   "cell_type": "code",
   "execution_count": 8,
   "id": "e2c3772d",
   "metadata": {},
   "outputs": [
    {
     "data": {
      "text/html": [
       "<div>\n",
       "<style scoped>\n",
       "    .dataframe tbody tr th:only-of-type {\n",
       "        vertical-align: middle;\n",
       "    }\n",
       "\n",
       "    .dataframe tbody tr th {\n",
       "        vertical-align: top;\n",
       "    }\n",
       "\n",
       "    .dataframe thead th {\n",
       "        text-align: right;\n",
       "    }\n",
       "</style>\n",
       "<table border=\"1\" class=\"dataframe\">\n",
       "  <thead>\n",
       "    <tr style=\"text-align: right;\">\n",
       "      <th></th>\n",
       "      <th>Tweet</th>\n",
       "      <th>sentiment</th>\n",
       "    </tr>\n",
       "  </thead>\n",
       "  <tbody>\n",
       "    <tr>\n",
       "      <th>0</th>\n",
       "      <td>@united UA5396 can wait for me. I'm on the gro...</td>\n",
       "      <td>negative</td>\n",
       "    </tr>\n",
       "    <tr>\n",
       "      <th>1</th>\n",
       "      <td>I hate Time Warner! Soooo wish I had Vios. Can...</td>\n",
       "      <td>negative</td>\n",
       "    </tr>\n",
       "    <tr>\n",
       "      <th>2</th>\n",
       "      <td>@united Oh, we are sure it's not planned, but ...</td>\n",
       "      <td>negative</td>\n",
       "    </tr>\n",
       "    <tr>\n",
       "      <th>3</th>\n",
       "      <td>Tom Shanahan's latest column on SDSU and its N...</td>\n",
       "      <td>neutral</td>\n",
       "    </tr>\n",
       "    <tr>\n",
       "      <th>4</th>\n",
       "      <td>Found the self driving car!! /IWo3QSvduneutral</td>\n",
       "      <td>neutral</td>\n",
       "    </tr>\n",
       "  </tbody>\n",
       "</table>\n",
       "</div>"
      ],
      "text/plain": [
       "                                               Tweet sentiment\n",
       "0  @united UA5396 can wait for me. I'm on the gro...  negative\n",
       "1  I hate Time Warner! Soooo wish I had Vios. Can...  negative\n",
       "2  @united Oh, we are sure it's not planned, but ...  negative\n",
       "3  Tom Shanahan's latest column on SDSU and its N...   neutral\n",
       "4     Found the self driving car!! /IWo3QSvduneutral   neutral"
      ]
     },
     "execution_count": 8,
     "metadata": {},
     "output_type": "execute_result"
    }
   ],
   "source": [
    "train_data.head()"
   ]
  },
  {
   "cell_type": "code",
   "execution_count": 9,
   "id": "7d281ee5",
   "metadata": {},
   "outputs": [
    {
     "data": {
      "text/html": [
       "<div>\n",
       "<style scoped>\n",
       "    .dataframe tbody tr th:only-of-type {\n",
       "        vertical-align: middle;\n",
       "    }\n",
       "\n",
       "    .dataframe tbody tr th {\n",
       "        vertical-align: top;\n",
       "    }\n",
       "\n",
       "    .dataframe thead th {\n",
       "        text-align: right;\n",
       "    }\n",
       "</style>\n",
       "<table border=\"1\" class=\"dataframe\">\n",
       "  <thead>\n",
       "    <tr style=\"text-align: right;\">\n",
       "      <th></th>\n",
       "      <th>Unnamed: 0</th>\n",
       "      <th>Date</th>\n",
       "      <th>User</th>\n",
       "      <th>Tweet</th>\n",
       "    </tr>\n",
       "  </thead>\n",
       "  <tbody>\n",
       "    <tr>\n",
       "      <th>0</th>\n",
       "      <td>0</td>\n",
       "      <td>2017-06-29 12:37:02+00:00</td>\n",
       "      <td>grdsatya</td>\n",
       "      <td>Why create a panic everytime.. can't be there ...</td>\n",
       "    </tr>\n",
       "    <tr>\n",
       "      <th>1</th>\n",
       "      <td>1</td>\n",
       "      <td>2017-06-29 12:27:29+00:00</td>\n",
       "      <td>cagauravgupta</td>\n",
       "      <td>Everyone in India would not do their job this ...</td>\n",
       "    </tr>\n",
       "    <tr>\n",
       "      <th>2</th>\n",
       "      <td>2</td>\n",
       "      <td>2017-06-29 12:09:26+00:00</td>\n",
       "      <td>buzzRashmi</td>\n",
       "      <td>After #Demonitization ,#GST may mean a huge bl...</td>\n",
       "    </tr>\n",
       "    <tr>\n",
       "      <th>3</th>\n",
       "      <td>3</td>\n",
       "      <td>2017-06-29 07:09:02+00:00</td>\n",
       "      <td>Writingkeeeda</td>\n",
       "      <td>#GST @PMOIndia people were told that loans wil...</td>\n",
       "    </tr>\n",
       "    <tr>\n",
       "      <th>4</th>\n",
       "      <td>4</td>\n",
       "      <td>2017-06-29 04:20:58+00:00</td>\n",
       "      <td>ninadsheth</td>\n",
       "      <td>#realestate prices in Indian hill stations are...</td>\n",
       "    </tr>\n",
       "  </tbody>\n",
       "</table>\n",
       "</div>"
      ],
      "text/plain": [
       "   Unnamed: 0                       Date           User  \\\n",
       "0           0  2017-06-29 12:37:02+00:00       grdsatya   \n",
       "1           1  2017-06-29 12:27:29+00:00  cagauravgupta   \n",
       "2           2  2017-06-29 12:09:26+00:00     buzzRashmi   \n",
       "3           3  2017-06-29 07:09:02+00:00  Writingkeeeda   \n",
       "4           4  2017-06-29 04:20:58+00:00     ninadsheth   \n",
       "\n",
       "                                               Tweet  \n",
       "0  Why create a panic everytime.. can't be there ...  \n",
       "1  Everyone in India would not do their job this ...  \n",
       "2  After #Demonitization ,#GST may mean a huge bl...  \n",
       "3  #GST @PMOIndia people were told that loans wil...  \n",
       "4  #realestate prices in Indian hill stations are...  "
      ]
     },
     "execution_count": 9,
     "metadata": {},
     "output_type": "execute_result"
    }
   ],
   "source": [
    "test_data.head()"
   ]
  },
  {
   "attachments": {},
   "cell_type": "markdown",
   "id": "f622740c",
   "metadata": {},
   "source": [
    "# Preprocessing function"
   ]
  },
  {
   "cell_type": "code",
   "execution_count": 10,
   "id": "f85bf688",
   "metadata": {},
   "outputs": [],
   "source": [
    "def preprocess_text(text):\n",
    "    # Tokenize text\n",
    "    tokens = word_tokenize(text.lower())\n",
    "\n",
    "    # Remove stopwords and stem remaining words\n",
    "    stemmed_tokens = [stemmer.stem(token) for token in tokens if token not in stop_words]\n",
    "\n",
    "    # Join stemmed tokens back into a single string\n",
    "    preprocessed_text = ' '.join(stemmed_tokens)\n",
    "\n",
    "    return preprocessed_text"
   ]
  },
  {
   "attachments": {},
   "cell_type": "markdown",
   "id": "282ab061",
   "metadata": {},
   "source": [
    "# Drop NaN values"
   ]
  },
  {
   "cell_type": "code",
   "execution_count": 11,
   "id": "a48e4e07",
   "metadata": {},
   "outputs": [],
   "source": [
    "train_data = train_data.dropna()\n",
    "test_data = test_data.dropna()"
   ]
  },
  {
   "attachments": {},
   "cell_type": "markdown",
   "id": "e43dda0f",
   "metadata": {},
   "source": [
    "# Preprocess data"
   ]
  },
  {
   "cell_type": "code",
   "execution_count": 12,
   "id": "d9f854ff",
   "metadata": {},
   "outputs": [],
   "source": [
    "stop_words = set(stopwords.words('english'))\n",
    "stemmer = PorterStemmer()\n",
    "train_data['Tweet'] = train_data['Tweet'].apply(preprocess_text)\n",
    "test_data['Tweet'] = test_data['Tweet'].apply(preprocess_text)"
   ]
  },
  {
   "cell_type": "code",
   "execution_count": 13,
   "id": "7f4351b8",
   "metadata": {},
   "outputs": [
    {
     "data": {
      "text/html": [
       "<div>\n",
       "<style scoped>\n",
       "    .dataframe tbody tr th:only-of-type {\n",
       "        vertical-align: middle;\n",
       "    }\n",
       "\n",
       "    .dataframe tbody tr th {\n",
       "        vertical-align: top;\n",
       "    }\n",
       "\n",
       "    .dataframe thead th {\n",
       "        text-align: right;\n",
       "    }\n",
       "</style>\n",
       "<table border=\"1\" class=\"dataframe\">\n",
       "  <thead>\n",
       "    <tr style=\"text-align: right;\">\n",
       "      <th></th>\n",
       "      <th>Tweet</th>\n",
       "      <th>sentiment</th>\n",
       "    </tr>\n",
       "  </thead>\n",
       "  <tbody>\n",
       "    <tr>\n",
       "      <th>0</th>\n",
       "      <td>@ unit ua5396 wait . 'm ground tri get gate mo...</td>\n",
       "      <td>negative</td>\n",
       "    </tr>\n",
       "    <tr>\n",
       "      <th>1</th>\n",
       "      <td>hate time warner ! soooo wish vio . cant watch...</td>\n",
       "      <td>negative</td>\n",
       "    </tr>\n",
       "    <tr>\n",
       "      <th>2</th>\n",
       "      <td>@ unit oh , sure 's plan , occur absolut consi...</td>\n",
       "      <td>negative</td>\n",
       "    </tr>\n",
       "    <tr>\n",
       "      <th>3</th>\n",
       "      <td>tom shanahan 's latest column sdsu ncaa baseba...</td>\n",
       "      <td>neutral</td>\n",
       "    </tr>\n",
       "    <tr>\n",
       "      <th>4</th>\n",
       "      <td>found self drive car ! ! /iwo3qsvduneutr</td>\n",
       "      <td>neutral</td>\n",
       "    </tr>\n",
       "  </tbody>\n",
       "</table>\n",
       "</div>"
      ],
      "text/plain": [
       "                                               Tweet sentiment\n",
       "0  @ unit ua5396 wait . 'm ground tri get gate mo...  negative\n",
       "1  hate time warner ! soooo wish vio . cant watch...  negative\n",
       "2  @ unit oh , sure 's plan , occur absolut consi...  negative\n",
       "3  tom shanahan 's latest column sdsu ncaa baseba...   neutral\n",
       "4           found self drive car ! ! /iwo3qsvduneutr   neutral"
      ]
     },
     "execution_count": 13,
     "metadata": {},
     "output_type": "execute_result"
    }
   ],
   "source": [
    "train_data.head()"
   ]
  },
  {
   "cell_type": "code",
   "execution_count": 14,
   "id": "1b85b77b",
   "metadata": {},
   "outputs": [
    {
     "data": {
      "text/html": [
       "<div>\n",
       "<style scoped>\n",
       "    .dataframe tbody tr th:only-of-type {\n",
       "        vertical-align: middle;\n",
       "    }\n",
       "\n",
       "    .dataframe tbody tr th {\n",
       "        vertical-align: top;\n",
       "    }\n",
       "\n",
       "    .dataframe thead th {\n",
       "        text-align: right;\n",
       "    }\n",
       "</style>\n",
       "<table border=\"1\" class=\"dataframe\">\n",
       "  <thead>\n",
       "    <tr style=\"text-align: right;\">\n",
       "      <th></th>\n",
       "      <th>Unnamed: 0</th>\n",
       "      <th>Date</th>\n",
       "      <th>User</th>\n",
       "      <th>Tweet</th>\n",
       "    </tr>\n",
       "  </thead>\n",
       "  <tbody>\n",
       "    <tr>\n",
       "      <th>0</th>\n",
       "      <td>0</td>\n",
       "      <td>2017-06-29 12:37:02+00:00</td>\n",
       "      <td>grdsatya</td>\n",
       "      <td>creat panic everytim .. ca n't proper plan ......</td>\n",
       "    </tr>\n",
       "    <tr>\n",
       "      <th>1</th>\n",
       "      <td>1</td>\n",
       "      <td>2017-06-29 12:27:29+00:00</td>\n",
       "      <td>cagauravgupta</td>\n",
       "      <td>everyon india would job week tell , 's # gstro...</td>\n",
       "    </tr>\n",
       "    <tr>\n",
       "      <th>2</th>\n",
       "      <td>2</td>\n",
       "      <td>2017-06-29 12:09:26+00:00</td>\n",
       "      <td>buzzRashmi</td>\n",
       "      <td># demonit , # gst may mean huge blow peopl uno...</td>\n",
       "    </tr>\n",
       "    <tr>\n",
       "      <th>3</th>\n",
       "      <td>3</td>\n",
       "      <td>2017-06-29 07:09:02+00:00</td>\n",
       "      <td>Writingkeeeda</td>\n",
       "      <td># gst @ pmoindia peopl told loan cheaper aftr ...</td>\n",
       "    </tr>\n",
       "    <tr>\n",
       "      <th>4</th>\n",
       "      <td>4</td>\n",
       "      <td>2017-06-29 04:20:58+00:00</td>\n",
       "      <td>ninadsheth</td>\n",
       "      <td># realest price indian hill station catastroph...</td>\n",
       "    </tr>\n",
       "  </tbody>\n",
       "</table>\n",
       "</div>"
      ],
      "text/plain": [
       "   Unnamed: 0                       Date           User  \\\n",
       "0           0  2017-06-29 12:37:02+00:00       grdsatya   \n",
       "1           1  2017-06-29 12:27:29+00:00  cagauravgupta   \n",
       "2           2  2017-06-29 12:09:26+00:00     buzzRashmi   \n",
       "3           3  2017-06-29 07:09:02+00:00  Writingkeeeda   \n",
       "4           4  2017-06-29 04:20:58+00:00     ninadsheth   \n",
       "\n",
       "                                               Tweet  \n",
       "0  creat panic everytim .. ca n't proper plan ......  \n",
       "1  everyon india would job week tell , 's # gstro...  \n",
       "2  # demonit , # gst may mean huge blow peopl uno...  \n",
       "3  # gst @ pmoindia peopl told loan cheaper aftr ...  \n",
       "4  # realest price indian hill station catastroph...  "
      ]
     },
     "execution_count": 14,
     "metadata": {},
     "output_type": "execute_result"
    }
   ],
   "source": [
    "test_data.head()"
   ]
  },
  {
   "attachments": {},
   "cell_type": "markdown",
   "id": "28ac8936",
   "metadata": {},
   "source": [
    "# Extract features"
   ]
  },
  {
   "cell_type": "code",
   "execution_count": 15,
   "id": "21da5ead",
   "metadata": {},
   "outputs": [],
   "source": [
    "vectorizer = CountVectorizer()\n",
    "X_train = vectorizer.fit_transform(train_data['Tweet'])\n",
    "X_test = vectorizer.transform(test_data['Tweet'])\n",
    "y_train = train_data['sentiment']"
   ]
  },
  {
   "attachments": {},
   "cell_type": "markdown",
   "id": "57192707",
   "metadata": {},
   "source": [
    "# Train Model for Naive Bayes"
   ]
  },
  {
   "cell_type": "code",
   "execution_count": 16,
   "id": "a8885365",
   "metadata": {},
   "outputs": [
    {
     "data": {
      "text/plain": [
       "MultinomialNB()"
      ]
     },
     "execution_count": 16,
     "metadata": {},
     "output_type": "execute_result"
    }
   ],
   "source": [
    "model = MultinomialNB()\n",
    "model.fit(X_train, y_train)"
   ]
  },
  {
   "attachments": {},
   "cell_type": "markdown",
   "id": "e5af5df9",
   "metadata": {},
   "source": [
    "# Evaluate model on test data"
   ]
  },
  {
   "cell_type": "code",
   "execution_count": 17,
   "id": "6231659b",
   "metadata": {},
   "outputs": [],
   "source": [
    "y_pred = model.predict(X_test)"
   ]
  },
  {
   "attachments": {},
   "cell_type": "markdown",
   "id": "3ab728ca",
   "metadata": {},
   "source": [
    "# Save predictions to a file"
   ]
  },
  {
   "cell_type": "code",
   "execution_count": 18,
   "id": "cf5f98a2",
   "metadata": {},
   "outputs": [],
   "source": [
    "# Create a new DataFrame with 'sentiment' column\n",
    "result_data_nb = pd.concat([test_data, pd.DataFrame({'sentiment': y_pred})], axis=1)\n",
    "\n",
    "# Save the DataFrame to a CSV file\n",
    "result_data_nb.to_csv('twitter_sentiment_nb_predictions.csv', index=False)"
   ]
  },
  {
   "cell_type": "code",
   "execution_count": 19,
   "id": "1c40b1c6",
   "metadata": {
    "scrolled": true
   },
   "outputs": [
    {
     "data": {
      "text/html": [
       "<div>\n",
       "<style scoped>\n",
       "    .dataframe tbody tr th:only-of-type {\n",
       "        vertical-align: middle;\n",
       "    }\n",
       "\n",
       "    .dataframe tbody tr th {\n",
       "        vertical-align: top;\n",
       "    }\n",
       "\n",
       "    .dataframe thead th {\n",
       "        text-align: right;\n",
       "    }\n",
       "</style>\n",
       "<table border=\"1\" class=\"dataframe\">\n",
       "  <thead>\n",
       "    <tr style=\"text-align: right;\">\n",
       "      <th></th>\n",
       "      <th>Unnamed: 0</th>\n",
       "      <th>Date</th>\n",
       "      <th>User</th>\n",
       "      <th>Tweet</th>\n",
       "      <th>sentiment</th>\n",
       "    </tr>\n",
       "  </thead>\n",
       "  <tbody>\n",
       "    <tr>\n",
       "      <th>0</th>\n",
       "      <td>0</td>\n",
       "      <td>2017-06-29 12:37:02+00:00</td>\n",
       "      <td>grdsatya</td>\n",
       "      <td>creat panic everytim .. ca n't proper plan ......</td>\n",
       "      <td>negative</td>\n",
       "    </tr>\n",
       "    <tr>\n",
       "      <th>1</th>\n",
       "      <td>1</td>\n",
       "      <td>2017-06-29 12:27:29+00:00</td>\n",
       "      <td>cagauravgupta</td>\n",
       "      <td>everyon india would job week tell , 's # gstro...</td>\n",
       "      <td>positive</td>\n",
       "    </tr>\n",
       "    <tr>\n",
       "      <th>2</th>\n",
       "      <td>2</td>\n",
       "      <td>2017-06-29 12:09:26+00:00</td>\n",
       "      <td>buzzRashmi</td>\n",
       "      <td># demonit , # gst may mean huge blow peopl uno...</td>\n",
       "      <td>negative</td>\n",
       "    </tr>\n",
       "    <tr>\n",
       "      <th>3</th>\n",
       "      <td>3</td>\n",
       "      <td>2017-06-29 07:09:02+00:00</td>\n",
       "      <td>Writingkeeeda</td>\n",
       "      <td># gst @ pmoindia peopl told loan cheaper aftr ...</td>\n",
       "      <td>negative</td>\n",
       "    </tr>\n",
       "    <tr>\n",
       "      <th>4</th>\n",
       "      <td>4</td>\n",
       "      <td>2017-06-29 04:20:58+00:00</td>\n",
       "      <td>ninadsheth</td>\n",
       "      <td># realest price indian hill station catastroph...</td>\n",
       "      <td>negative</td>\n",
       "    </tr>\n",
       "  </tbody>\n",
       "</table>\n",
       "</div>"
      ],
      "text/plain": [
       "   Unnamed: 0                       Date           User  \\\n",
       "0           0  2017-06-29 12:37:02+00:00       grdsatya   \n",
       "1           1  2017-06-29 12:27:29+00:00  cagauravgupta   \n",
       "2           2  2017-06-29 12:09:26+00:00     buzzRashmi   \n",
       "3           3  2017-06-29 07:09:02+00:00  Writingkeeeda   \n",
       "4           4  2017-06-29 04:20:58+00:00     ninadsheth   \n",
       "\n",
       "                                               Tweet sentiment  \n",
       "0  creat panic everytim .. ca n't proper plan ......  negative  \n",
       "1  everyon india would job week tell , 's # gstro...  positive  \n",
       "2  # demonit , # gst may mean huge blow peopl uno...  negative  \n",
       "3  # gst @ pmoindia peopl told loan cheaper aftr ...  negative  \n",
       "4  # realest price indian hill station catastroph...  negative  "
      ]
     },
     "execution_count": 19,
     "metadata": {},
     "output_type": "execute_result"
    }
   ],
   "source": [
    "result_data_nb.head()"
   ]
  },
  {
   "attachments": {},
   "cell_type": "markdown",
   "id": "f95e8ada",
   "metadata": {},
   "source": [
    "# Train the SVM algorithm"
   ]
  },
  {
   "cell_type": "code",
   "execution_count": 20,
   "id": "9998cf4f",
   "metadata": {},
   "outputs": [
    {
     "data": {
      "text/plain": [
       "SVC(kernel='linear', random_state=0)"
      ]
     },
     "execution_count": 20,
     "metadata": {},
     "output_type": "execute_result"
    }
   ],
   "source": [
    "svm = SVC(kernel='linear', decision_function_shape='ovr', random_state=0)\n",
    "svm.fit(X_train, y_train)"
   ]
  },
  {
   "attachments": {},
   "cell_type": "markdown",
   "id": "da5b584a",
   "metadata": {},
   "source": [
    "# Predict the sentiments of the unlabelled data using the trained SVM algorithm"
   ]
  },
  {
   "cell_type": "code",
   "execution_count": 21,
   "id": "3ea9f21f",
   "metadata": {},
   "outputs": [],
   "source": [
    "y_unlabelled = svm.predict(X_test)"
   ]
  },
  {
   "attachments": {},
   "cell_type": "markdown",
   "id": "144735f1",
   "metadata": {},
   "source": [
    "# Save predictions to a file"
   ]
  },
  {
   "cell_type": "code",
   "execution_count": 22,
   "id": "85e72f75",
   "metadata": {},
   "outputs": [],
   "source": [
    "# Create a new DataFrame with 'sentiment' column\n",
    "result_data_svm = pd.concat([test_data, pd.DataFrame({'sentiment': y_unlabelled})], axis=1)\n",
    "\n",
    "# Save the DataFrame to a CSV file\n",
    "result_data_svm.to_csv('twitter_sentiment_svm_predictions.csv', index=False)"
   ]
  },
  {
   "cell_type": "code",
   "execution_count": 23,
   "id": "5fae090b",
   "metadata": {},
   "outputs": [
    {
     "data": {
      "text/html": [
       "<div>\n",
       "<style scoped>\n",
       "    .dataframe tbody tr th:only-of-type {\n",
       "        vertical-align: middle;\n",
       "    }\n",
       "\n",
       "    .dataframe tbody tr th {\n",
       "        vertical-align: top;\n",
       "    }\n",
       "\n",
       "    .dataframe thead th {\n",
       "        text-align: right;\n",
       "    }\n",
       "</style>\n",
       "<table border=\"1\" class=\"dataframe\">\n",
       "  <thead>\n",
       "    <tr style=\"text-align: right;\">\n",
       "      <th></th>\n",
       "      <th>Unnamed: 0</th>\n",
       "      <th>Date</th>\n",
       "      <th>User</th>\n",
       "      <th>Tweet</th>\n",
       "      <th>sentiment</th>\n",
       "    </tr>\n",
       "  </thead>\n",
       "  <tbody>\n",
       "    <tr>\n",
       "      <th>0</th>\n",
       "      <td>0</td>\n",
       "      <td>2017-06-29 12:37:02+00:00</td>\n",
       "      <td>grdsatya</td>\n",
       "      <td>creat panic everytim .. ca n't proper plan ......</td>\n",
       "      <td>neutral</td>\n",
       "    </tr>\n",
       "    <tr>\n",
       "      <th>1</th>\n",
       "      <td>1</td>\n",
       "      <td>2017-06-29 12:27:29+00:00</td>\n",
       "      <td>cagauravgupta</td>\n",
       "      <td>everyon india would job week tell , 's # gstro...</td>\n",
       "      <td>positive</td>\n",
       "    </tr>\n",
       "    <tr>\n",
       "      <th>2</th>\n",
       "      <td>2</td>\n",
       "      <td>2017-06-29 12:09:26+00:00</td>\n",
       "      <td>buzzRashmi</td>\n",
       "      <td># demonit , # gst may mean huge blow peopl uno...</td>\n",
       "      <td>negative</td>\n",
       "    </tr>\n",
       "    <tr>\n",
       "      <th>3</th>\n",
       "      <td>3</td>\n",
       "      <td>2017-06-29 07:09:02+00:00</td>\n",
       "      <td>Writingkeeeda</td>\n",
       "      <td># gst @ pmoindia peopl told loan cheaper aftr ...</td>\n",
       "      <td>negative</td>\n",
       "    </tr>\n",
       "    <tr>\n",
       "      <th>4</th>\n",
       "      <td>4</td>\n",
       "      <td>2017-06-29 04:20:58+00:00</td>\n",
       "      <td>ninadsheth</td>\n",
       "      <td># realest price indian hill station catastroph...</td>\n",
       "      <td>neutral</td>\n",
       "    </tr>\n",
       "  </tbody>\n",
       "</table>\n",
       "</div>"
      ],
      "text/plain": [
       "   Unnamed: 0                       Date           User  \\\n",
       "0           0  2017-06-29 12:37:02+00:00       grdsatya   \n",
       "1           1  2017-06-29 12:27:29+00:00  cagauravgupta   \n",
       "2           2  2017-06-29 12:09:26+00:00     buzzRashmi   \n",
       "3           3  2017-06-29 07:09:02+00:00  Writingkeeeda   \n",
       "4           4  2017-06-29 04:20:58+00:00     ninadsheth   \n",
       "\n",
       "                                               Tweet sentiment  \n",
       "0  creat panic everytim .. ca n't proper plan ......   neutral  \n",
       "1  everyon india would job week tell , 's # gstro...  positive  \n",
       "2  # demonit , # gst may mean huge blow peopl uno...  negative  \n",
       "3  # gst @ pmoindia peopl told loan cheaper aftr ...  negative  \n",
       "4  # realest price indian hill station catastroph...   neutral  "
      ]
     },
     "execution_count": 23,
     "metadata": {},
     "output_type": "execute_result"
    }
   ],
   "source": [
    "result_data_svm.head()"
   ]
  },
  {
   "attachments": {},
   "cell_type": "markdown",
   "id": "4d3bda98",
   "metadata": {},
   "source": [
    "# Naive Bayes Graph"
   ]
  },
  {
   "cell_type": "code",
   "execution_count": 24,
   "id": "a99a4d6b",
   "metadata": {},
   "outputs": [
    {
     "data": {
      "image/png": "[encoded data removed]",
      "text/plain": [
       "<Figure size 700x700 with 1 Axes>"
      ]
     },
     "metadata": {},
     "output_type": "display_data"
    }
   ],
   "source": [
    "plotgraph(result_data_nb, 'Naive Bayes Classifier')"
   ]
  },
  {
   "attachments": {},
   "cell_type": "markdown",
   "id": "89d2c861",
   "metadata": {},
   "source": [
    "# Support Vector Graph"
   ]
  },
  {
   "cell_type": "code",
   "execution_count": 25,
   "id": "3eec33b4",
   "metadata": {},
   "outputs": [
    {
     "data": {
      "image/png": "[encoded data removed]",
      "text/plain": [
       "<Figure size 700x700 with 1 Axes>"
      ]
     },
     "metadata": {},
     "output_type": "display_data"
    }
   ],
   "source": [
    "plotgraph(result_data_svm, 'Support Vector Machine')"
   ]
  },
  {
   "cell_type": "code",
   "execution_count": null,
   "id": "791ebb82",
   "metadata": {},
   "outputs": [],
   "source": []
  }
 ],
 "metadata": {
  "kernelspec": {
   "display_name": "Python 3 (ipykernel)",
   "language": "python",
   "name": "python3"
  },
  "language_info": {
   "codemirror_mode": {
    "name": "ipython",
    "version": 3
   },
   "file_extension": ".py",
   "mimetype": "text/x-python",
   "name": "python",
   "nbconvert_exporter": "python",
   "pygments_lexer": "ipython3",
   "version": "3.9.13"
  }
 },
 "nbformat": 4,
 "nbformat_minor": 5
}
