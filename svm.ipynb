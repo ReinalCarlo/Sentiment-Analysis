{
 "cells": [
  {
   "cell_type": "code",
   "execution_count": 4,
   "id": "ed0c3b85",
   "metadata": {},
   "outputs": [],
   "source": [
    "import pandas as pd\n",
    "# train Data\n",
    "trainData = pd.read_csv(\"https://raw.githubusercontent.com/Vasistareddy/sentiment_analysis/master/data/train.csv\")\n",
    "# test Data\n",
    "testData = pd.read_csv(\"https://raw.githubusercontent.com/Vasistareddy/sentiment_analysis/master/data/test.csv\")"
   ]
  },
  {
   "cell_type": "code",
   "execution_count": 5,
   "id": "12feb79d",
   "metadata": {},
   "outputs": [
    {
     "data": {
      "text/html": [
       "<div>\n",
       "<style scoped>\n",
       "    .dataframe tbody tr th:only-of-type {\n",
       "        vertical-align: middle;\n",
       "    }\n",
       "\n",
       "    .dataframe tbody tr th {\n",
       "        vertical-align: top;\n",
       "    }\n",
       "\n",
       "    .dataframe thead th {\n",
       "        text-align: right;\n",
       "    }\n",
       "</style>\n",
       "<table border=\"1\" class=\"dataframe\">\n",
       "  <thead>\n",
       "    <tr style=\"text-align: right;\">\n",
       "      <th></th>\n",
       "      <th>Content</th>\n",
       "      <th>Label</th>\n",
       "    </tr>\n",
       "  </thead>\n",
       "  <tbody>\n",
       "    <tr>\n",
       "      <th>364</th>\n",
       "      <td>on seeing the outrageous previews for bulworth...</td>\n",
       "      <td>pos</td>\n",
       "    </tr>\n",
       "    <tr>\n",
       "      <th>466</th>\n",
       "      <td>\" i've been told by several people , 'you're ...</td>\n",
       "      <td>pos</td>\n",
       "    </tr>\n",
       "    <tr>\n",
       "      <th>820</th>\n",
       "      <td>titanic is so close to being the perfect movie...</td>\n",
       "      <td>pos</td>\n",
       "    </tr>\n",
       "    <tr>\n",
       "      <th>6</th>\n",
       "      <td>edward zwick's \" the siege \" raises more quest...</td>\n",
       "      <td>pos</td>\n",
       "    </tr>\n",
       "    <tr>\n",
       "      <th>1085</th>\n",
       "      <td>plot : something about a bunch of kids going i...</td>\n",
       "      <td>neg</td>\n",
       "    </tr>\n",
       "  </tbody>\n",
       "</table>\n",
       "</div>"
      ],
      "text/plain": [
       "                                                Content Label\n",
       "364   on seeing the outrageous previews for bulworth...   pos\n",
       "466    \" i've been told by several people , 'you're ...   pos\n",
       "820   titanic is so close to being the perfect movie...   pos\n",
       "6     edward zwick's \" the siege \" raises more quest...   pos\n",
       "1085  plot : something about a bunch of kids going i...   neg"
      ]
     },
     "execution_count": 5,
     "metadata": {},
     "output_type": "execute_result"
    }
   ],
   "source": [
    "trainData.sample(frac=1).head(5)"
   ]
  },
  {
   "cell_type": "code",
   "execution_count": 6,
   "id": "fd534cc3",
   "metadata": {},
   "outputs": [],
   "source": [
    "from sklearn.feature_extraction.text import TfidfVectorizer\n",
    "# Create feature vectors\n",
    "vectorizer = TfidfVectorizer(min_df = 5,max_df = 0.8,sublinear_tf = True,use_idf = True)\n",
    "train_vectors = vectorizer.fit_transform(trainData['Content'].values.astype('U'))\n",
    "test_vectors = vectorizer.transform(testData['Content'].values.astype('U'))"
   ]
  },
  {
   "cell_type": "code",
   "execution_count": 8,
   "id": "6f09346a",
   "metadata": {},
   "outputs": [],
   "source": [
    "import time\n",
    "from sklearn import svm\n",
    "from sklearn.metrics import classification_report\n",
    "# Perform classification with SVM, kernel=linear\n",
    "classifier_linear = svm.SVC(kernel='linear')\n",
    "t0 = time.time()\n",
    "classifier_linear.fit(train_vectors, trainData['Label'])\n",
    "t1 = time.time()\n",
    "prediction_linear = classifier_linear.predict(test_vectors)\n",
    "t2 = time.time()\n",
    "time_linear_train = t1-t0\n",
    "time_linear_predict = t2-t1"
   ]
  },
  {
   "cell_type": "code",
   "execution_count": 9,
   "id": "c5f9e0cf",
   "metadata": {},
   "outputs": [
    {
     "name": "stdout",
     "output_type": "stream",
     "text": [
      "Training time: 6.532639s; Prediction time: 0.694587s\n",
      "positive:  {'precision': 0.9191919191919192, 'recall': 0.91, 'f1-score': 0.9145728643216081, 'support': 100}\n",
      "negative:  {'precision': 0.9108910891089109, 'recall': 0.92, 'f1-score': 0.9154228855721394, 'support': 100}\n"
     ]
    }
   ],
   "source": [
    "print(\"Training time: %fs; Prediction time: %fs\" % (time_linear_train, time_linear_predict))\n",
    "report = classification_report(testData['Label'], prediction_linear, output_dict=True)\n",
    "print('positive: ', report['pos'])\n",
    "print('negative: ', report['neg'])"
   ]
  },
  {
   "cell_type": "code",
   "execution_count": 18,
   "id": "5f39d793",
   "metadata": {},
   "outputs": [
    {
     "data": {
      "text/html": [
       "<div>\n",
       "<style scoped>\n",
       "    .dataframe tbody tr th:only-of-type {\n",
       "        vertical-align: middle;\n",
       "    }\n",
       "\n",
       "    .dataframe tbody tr th {\n",
       "        vertical-align: top;\n",
       "    }\n",
       "\n",
       "    .dataframe thead th {\n",
       "        text-align: right;\n",
       "    }\n",
       "</style>\n",
       "<table border=\"1\" class=\"dataframe\">\n",
       "  <thead>\n",
       "    <tr style=\"text-align: right;\">\n",
       "      <th></th>\n",
       "      <th>Unnamed: 0</th>\n",
       "      <th>Date</th>\n",
       "      <th>User</th>\n",
       "      <th>Tweet</th>\n",
       "    </tr>\n",
       "  </thead>\n",
       "  <tbody>\n",
       "    <tr>\n",
       "      <th>0</th>\n",
       "      <td>0</td>\n",
       "      <td>2017-11-07 23:53:21+00:00</td>\n",
       "      <td>badri_rama</td>\n",
       "      <td>Any news on whether RBI is done counting? #Dem...</td>\n",
       "    </tr>\n",
       "    <tr>\n",
       "      <th>1</th>\n",
       "      <td>1</td>\n",
       "      <td>2017-11-07 23:49:21+00:00</td>\n",
       "      <td>asheeshcalla1</td>\n",
       "      <td>#Demonitization if 1+1=2,can government give t...</td>\n",
       "    </tr>\n",
       "    <tr>\n",
       "      <th>2</th>\n",
       "      <td>2</td>\n",
       "      <td>2017-11-07 20:36:15+00:00</td>\n",
       "      <td>Law_N_Tennis</td>\n",
       "      <td>I don’t have old currencies now but i have unf...</td>\n",
       "    </tr>\n",
       "    <tr>\n",
       "      <th>3</th>\n",
       "      <td>3</td>\n",
       "      <td>2017-11-07 20:12:50+00:00</td>\n",
       "      <td>mangalhazra3</td>\n",
       "      <td>#DemonetisationAnniversary Chalo ek baar fir s...</td>\n",
       "    </tr>\n",
       "    <tr>\n",
       "      <th>4</th>\n",
       "      <td>4</td>\n",
       "      <td>2017-11-07 20:01:29+00:00</td>\n",
       "      <td>I_Shubh2</td>\n",
       "      <td>#Demonitization\\nHow many of u r waiting for 8...</td>\n",
       "    </tr>\n",
       "  </tbody>\n",
       "</table>\n",
       "</div>"
      ],
      "text/plain": [
       "   Unnamed: 0                       Date           User  \\\n",
       "0           0  2017-11-07 23:53:21+00:00     badri_rama   \n",
       "1           1  2017-11-07 23:49:21+00:00  asheeshcalla1   \n",
       "2           2  2017-11-07 20:36:15+00:00   Law_N_Tennis   \n",
       "3           3  2017-11-07 20:12:50+00:00   mangalhazra3   \n",
       "4           4  2017-11-07 20:01:29+00:00       I_Shubh2   \n",
       "\n",
       "                                               Tweet  \n",
       "0  Any news on whether RBI is done counting? #Dem...  \n",
       "1  #Demonitization if 1+1=2,can government give t...  \n",
       "2  I don’t have old currencies now but i have unf...  \n",
       "3  #DemonetisationAnniversary Chalo ek baar fir s...  \n",
       "4  #Demonitization\\nHow many of u r waiting for 8...  "
      ]
     },
     "execution_count": 18,
     "metadata": {},
     "output_type": "execute_result"
    }
   ],
   "source": [
    "data = pd.read_csv(r'C:\\Users\\Reina\\Desktop\\demonitization.csv')\n",
    "data.head()"
   ]
  },
  {
   "cell_type": "code",
   "execution_count": 21,
   "id": "84760dbd",
   "metadata": {},
   "outputs": [
    {
     "data": {
      "text/plain": [
       "Index(['Unnamed: 0', 'Date', 'User', 'Tweet'], dtype='object')"
      ]
     },
     "execution_count": 21,
     "metadata": {},
     "output_type": "execute_result"
    }
   ],
   "source": [
    "data.columns"
   ]
  },
  {
   "cell_type": "code",
   "execution_count": 36,
   "id": "2b7b72c4",
   "metadata": {},
   "outputs": [],
   "source": [
    "text_df=data.drop(['Unnamed: 0', 'Date', 'User',], axis=1)\n",
    "text_df.head()\n",
    "\n",
    "def classifer(text):\n",
    "    review_vector = vectorizer.transform([text]) \n",
    "    return classifier_linear.predict(review_vector)"
   ]
  },
  {
   "cell_type": "code",
   "execution_count": 37,
   "id": "4632f196",
   "metadata": {},
   "outputs": [],
   "source": [
    "text_df['Label'] =text_df['Tweet'].apply(classifer)"
   ]
  },
  {
   "cell_type": "code",
   "execution_count": 39,
   "id": "fa5b8c4c",
   "metadata": {},
   "outputs": [
    {
     "data": {
      "text/html": [
       "<div>\n",
       "<style scoped>\n",
       "    .dataframe tbody tr th:only-of-type {\n",
       "        vertical-align: middle;\n",
       "    }\n",
       "\n",
       "    .dataframe tbody tr th {\n",
       "        vertical-align: top;\n",
       "    }\n",
       "\n",
       "    .dataframe thead th {\n",
       "        text-align: right;\n",
       "    }\n",
       "</style>\n",
       "<table border=\"1\" class=\"dataframe\">\n",
       "  <thead>\n",
       "    <tr style=\"text-align: right;\">\n",
       "      <th></th>\n",
       "      <th>Tweet</th>\n",
       "      <th>Label</th>\n",
       "    </tr>\n",
       "  </thead>\n",
       "  <tbody>\n",
       "    <tr>\n",
       "      <th>0</th>\n",
       "      <td>Any news on whether RBI is done counting? #Dem...</td>\n",
       "      <td>[neg]</td>\n",
       "    </tr>\n",
       "    <tr>\n",
       "      <th>1</th>\n",
       "      <td>#Demonitization if 1+1=2,can government give t...</td>\n",
       "      <td>[pos]</td>\n",
       "    </tr>\n",
       "    <tr>\n",
       "      <th>2</th>\n",
       "      <td>I don’t have old currencies now but i have unf...</td>\n",
       "      <td>[neg]</td>\n",
       "    </tr>\n",
       "    <tr>\n",
       "      <th>3</th>\n",
       "      <td>#DemonetisationAnniversary Chalo ek baar fir s...</td>\n",
       "      <td>[neg]</td>\n",
       "    </tr>\n",
       "    <tr>\n",
       "      <th>4</th>\n",
       "      <td>#Demonitization\\nHow many of u r waiting for 8...</td>\n",
       "      <td>[pos]</td>\n",
       "    </tr>\n",
       "    <tr>\n",
       "      <th>5</th>\n",
       "      <td>Let's celebrate the Golden Day of our History....</td>\n",
       "      <td>[pos]</td>\n",
       "    </tr>\n",
       "    <tr>\n",
       "      <th>6</th>\n",
       "      <td>Ah! What a bright sunny day?\\nA year back we l...</td>\n",
       "      <td>[neg]</td>\n",
       "    </tr>\n",
       "    <tr>\n",
       "      <th>7</th>\n",
       "      <td>Indian Halloween:\\n8th November\\n8 PM\\nBe prep...</td>\n",
       "      <td>[neg]</td>\n",
       "    </tr>\n",
       "    <tr>\n",
       "      <th>8</th>\n",
       "      <td>So what's Trending tomorrow #Demonitization #a...</td>\n",
       "      <td>[neg]</td>\n",
       "    </tr>\n",
       "    <tr>\n",
       "      <th>9</th>\n",
       "      <td>Happy #Demonitization Diwas!\\nOne year anniver...</td>\n",
       "      <td>[pos]</td>\n",
       "    </tr>\n",
       "    <tr>\n",
       "      <th>10</th>\n",
       "      <td>All because of sluggish economy n this is what...</td>\n",
       "      <td>[neg]</td>\n",
       "    </tr>\n",
       "    <tr>\n",
       "      <th>11</th>\n",
       "      <td>#Demonitization  was black day for our economy...</td>\n",
       "      <td>[neg]</td>\n",
       "    </tr>\n",
       "    <tr>\n",
       "      <th>12</th>\n",
       "      <td>Happy #Demonitization day. Or sad. Depending o...</td>\n",
       "      <td>[pos]</td>\n",
       "    </tr>\n",
       "    <tr>\n",
       "      <th>13</th>\n",
       "      <td>What is the real reason behind #Demonitization !!</td>\n",
       "      <td>[neg]</td>\n",
       "    </tr>\n",
       "    <tr>\n",
       "      <th>14</th>\n",
       "      <td>#Demonitization is Modi created disaster.\\nMod...</td>\n",
       "      <td>[neg]</td>\n",
       "    </tr>\n",
       "    <tr>\n",
       "      <th>15</th>\n",
       "      <td>Manmohan Singh said Demonetization was an orga...</td>\n",
       "      <td>[neg]</td>\n",
       "    </tr>\n",
       "    <tr>\n",
       "      <th>16</th>\n",
       "      <td>One year completed for #Demonetisation #Demoni...</td>\n",
       "      <td>[neg]</td>\n",
       "    </tr>\n",
       "    <tr>\n",
       "      <th>17</th>\n",
       "      <td>One year for new India. #Demonitization is one...</td>\n",
       "      <td>[neg]</td>\n",
       "    </tr>\n",
       "    <tr>\n",
       "      <th>18</th>\n",
       "      <td>Let's celebrate the Golden Day of our History....</td>\n",
       "      <td>[pos]</td>\n",
       "    </tr>\n",
       "    <tr>\n",
       "      <th>19</th>\n",
       "      <td>1 yr of #demonitization. @PMOIndia ModiJi, 15 ...</td>\n",
       "      <td>[neg]</td>\n",
       "    </tr>\n",
       "  </tbody>\n",
       "</table>\n",
       "</div>"
      ],
      "text/plain": [
       "                                                Tweet  Label\n",
       "0   Any news on whether RBI is done counting? #Dem...  [neg]\n",
       "1   #Demonitization if 1+1=2,can government give t...  [pos]\n",
       "2   I don’t have old currencies now but i have unf...  [neg]\n",
       "3   #DemonetisationAnniversary Chalo ek baar fir s...  [neg]\n",
       "4   #Demonitization\\nHow many of u r waiting for 8...  [pos]\n",
       "5   Let's celebrate the Golden Day of our History....  [pos]\n",
       "6   Ah! What a bright sunny day?\\nA year back we l...  [neg]\n",
       "7   Indian Halloween:\\n8th November\\n8 PM\\nBe prep...  [neg]\n",
       "8   So what's Trending tomorrow #Demonitization #a...  [neg]\n",
       "9   Happy #Demonitization Diwas!\\nOne year anniver...  [pos]\n",
       "10  All because of sluggish economy n this is what...  [neg]\n",
       "11  #Demonitization  was black day for our economy...  [neg]\n",
       "12  Happy #Demonitization day. Or sad. Depending o...  [pos]\n",
       "13  What is the real reason behind #Demonitization !!  [neg]\n",
       "14  #Demonitization is Modi created disaster.\\nMod...  [neg]\n",
       "15  Manmohan Singh said Demonetization was an orga...  [neg]\n",
       "16  One year completed for #Demonetisation #Demoni...  [neg]\n",
       "17  One year for new India. #Demonitization is one...  [neg]\n",
       "18  Let's celebrate the Golden Day of our History....  [pos]\n",
       "19  1 yr of #demonitization. @PMOIndia ModiJi, 15 ...  [neg]"
      ]
     },
     "execution_count": 39,
     "metadata": {},
     "output_type": "execute_result"
    }
   ],
   "source": [
    "text_df.head(20)"
   ]
  },
  {
   "cell_type": "code",
   "execution_count": 48,
   "id": "64748a93",
   "metadata": {},
   "outputs": [
    {
     "data": {
      "text/plain": [
       "Text(0.5, 1.0, 'Distribution of sentiments')"
      ]
     },
     "execution_count": 48,
     "metadata": {},
     "output_type": "execute_result"
    },
    {
     "data": {
      "image/png": "[encoded data removed]",
      "text/plain": [
       "<Figure size 504x504 with 1 Axes>"
      ]
     },
     "metadata": {},
     "output_type": "display_data"
    }
   ],
   "source": [
    "import matplotlib.pyplot as plt\n",
    "import seaborn as sns\n",
    "fig = plt.figure(figsize=(7,7))\n",
    "colors = (\"red\", \"green\")\n",
    "wp = {'linewidth':2, 'edgecolor':\"black\"}\n",
    "tags = text_df['Label'].value_counts()\n",
    "explode = (0.1,0.1,0.1)\n",
    "tags.plot(kind='pie', autopct='%1.1f%%', shadow=True, colors = colors,\n",
    "         startangle=90, wedgeprops = wp, explode = None, label='')\n",
    "plt.title('Distribution of sentiments')"
   ]
  },
  {
   "cell_type": "code",
   "execution_count": null,
   "id": "544384f8",
   "metadata": {},
   "outputs": [],
   "source": []
  }
 ],
 "metadata": {
  "kernelspec": {
   "display_name": "Python 3 (ipykernel)",
   "language": "python",
   "name": "python3"
  },
  "language_info": {
   "codemirror_mode": {
    "name": "ipython",
    "version": 3
   },
   "file_extension": ".py",
   "mimetype": "text/x-python",
   "name": "python",
   "nbconvert_exporter": "python",
   "pygments_lexer": "ipython3",
   "version": "3.8.0"
  }
 },
 "nbformat": 4,
 "nbformat_minor": 5
}
